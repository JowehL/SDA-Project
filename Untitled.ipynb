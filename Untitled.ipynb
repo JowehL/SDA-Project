{
 "cells": [
  {
   "cell_type": "code",
   "execution_count": 2,
   "metadata": {
    "collapsed": true
   },
   "outputs": [],
   "source": [
    "import pandas as pd\n",
    "import numpy as np\n",
    "import matplotlib.pyplot as plt"
   ]
  },
  {
   "cell_type": "code",
   "execution_count": 3,
   "metadata": {
    "collapsed": true
   },
   "outputs": [],
   "source": [
    "wine_data_path = \"./data/winemag-data-130k-v2.csv\" \n",
    "wine_data_path_2 = \"./data/winemag-data_first150k.csv\""
   ]
  },
  {
   "cell_type": "code",
   "execution_count": 4,
   "metadata": {},
   "outputs": [
    {
     "data": {
      "text/html": [
       "<div>\n",
       "<style>\n",
       "    .dataframe thead tr:only-child th {\n",
       "        text-align: right;\n",
       "    }\n",
       "\n",
       "    .dataframe thead th {\n",
       "        text-align: left;\n",
       "    }\n",
       "\n",
       "    .dataframe tbody tr th {\n",
       "        vertical-align: top;\n",
       "    }\n",
       "</style>\n",
       "<table border=\"1\" class=\"dataframe\">\n",
       "  <thead>\n",
       "    <tr style=\"text-align: right;\">\n",
       "      <th></th>\n",
       "      <th>Unnamed: 0</th>\n",
       "      <th>country</th>\n",
       "      <th>description</th>\n",
       "      <th>designation</th>\n",
       "      <th>points</th>\n",
       "      <th>price</th>\n",
       "      <th>province</th>\n",
       "      <th>region_1</th>\n",
       "      <th>region_2</th>\n",
       "      <th>taster_name</th>\n",
       "      <th>taster_twitter_handle</th>\n",
       "      <th>title</th>\n",
       "      <th>variety</th>\n",
       "      <th>winery</th>\n",
       "    </tr>\n",
       "  </thead>\n",
       "  <tbody>\n",
       "    <tr>\n",
       "      <th>125903</th>\n",
       "      <td>125903</td>\n",
       "      <td>Spain</td>\n",
       "      <td>This dense wine from Bierzo is rich, chocolaty...</td>\n",
       "      <td>Bembibre</td>\n",
       "      <td>92</td>\n",
       "      <td>48.0</td>\n",
       "      <td>Northern Spain</td>\n",
       "      <td>Bierzo</td>\n",
       "      <td>NaN</td>\n",
       "      <td>Michael Schachner</td>\n",
       "      <td>@wineschach</td>\n",
       "      <td>Dominio de Tares 2007 Bembibre Mencía (Bierzo)</td>\n",
       "      <td>Mencía</td>\n",
       "      <td>Dominio de Tares</td>\n",
       "    </tr>\n",
       "    <tr>\n",
       "      <th>57109</th>\n",
       "      <td>57109</td>\n",
       "      <td>Italy</td>\n",
       "      <td>Aromas of ripe berry, fragrant blue flower and...</td>\n",
       "      <td>del Comune di La Morra</td>\n",
       "      <td>90</td>\n",
       "      <td>40.0</td>\n",
       "      <td>Piedmont</td>\n",
       "      <td>Barolo</td>\n",
       "      <td>NaN</td>\n",
       "      <td>Kerin O’Keefe</td>\n",
       "      <td>@kerinokeefe</td>\n",
       "      <td>Ellena 2012 del Comune di La Morra  (Barolo)</td>\n",
       "      <td>Nebbiolo</td>\n",
       "      <td>Ellena</td>\n",
       "    </tr>\n",
       "    <tr>\n",
       "      <th>75826</th>\n",
       "      <td>75826</td>\n",
       "      <td>France</td>\n",
       "      <td>Big, ripe, almost exotic, this has developed i...</td>\n",
       "      <td>NaN</td>\n",
       "      <td>92</td>\n",
       "      <td>NaN</td>\n",
       "      <td>Bordeaux</td>\n",
       "      <td>Saint-Julien</td>\n",
       "      <td>NaN</td>\n",
       "      <td>Roger Voss</td>\n",
       "      <td>@vossroger</td>\n",
       "      <td>Château Langoa Barton 2005  Saint-Julien</td>\n",
       "      <td>Bordeaux-style Red Blend</td>\n",
       "      <td>Château Langoa Barton</td>\n",
       "    </tr>\n",
       "    <tr>\n",
       "      <th>69539</th>\n",
       "      <td>69539</td>\n",
       "      <td>Chile</td>\n",
       "      <td>Briny citrus aromas are pungent, and in genera...</td>\n",
       "      <td>NaN</td>\n",
       "      <td>85</td>\n",
       "      <td>13.0</td>\n",
       "      <td>Colchagua Valley</td>\n",
       "      <td>NaN</td>\n",
       "      <td>NaN</td>\n",
       "      <td>Michael Schachner</td>\n",
       "      <td>@wineschach</td>\n",
       "      <td>Calcu 2014 Rosé (Colchagua Valley)</td>\n",
       "      <td>Rosé</td>\n",
       "      <td>Calcu</td>\n",
       "    </tr>\n",
       "    <tr>\n",
       "      <th>49409</th>\n",
       "      <td>49409</td>\n",
       "      <td>France</td>\n",
       "      <td>This is a crisp wine, full of acidity. It hold...</td>\n",
       "      <td>NaN</td>\n",
       "      <td>88</td>\n",
       "      <td>10.0</td>\n",
       "      <td>Bordeaux</td>\n",
       "      <td>Bordeaux Blanc</td>\n",
       "      <td>NaN</td>\n",
       "      <td>Roger Voss</td>\n",
       "      <td>@vossroger</td>\n",
       "      <td>Château Terres Douces 2016  Bordeaux Blanc</td>\n",
       "      <td>Bordeaux-style White Blend</td>\n",
       "      <td>Château Terres Douces</td>\n",
       "    </tr>\n",
       "  </tbody>\n",
       "</table>\n",
       "</div>"
      ],
      "text/plain": [
       "        Unnamed: 0 country                                        description  \\\n",
       "125903      125903   Spain  This dense wine from Bierzo is rich, chocolaty...   \n",
       "57109        57109   Italy  Aromas of ripe berry, fragrant blue flower and...   \n",
       "75826        75826  France  Big, ripe, almost exotic, this has developed i...   \n",
       "69539        69539   Chile  Briny citrus aromas are pungent, and in genera...   \n",
       "49409        49409  France  This is a crisp wine, full of acidity. It hold...   \n",
       "\n",
       "                   designation  points  price          province  \\\n",
       "125903                Bembibre      92   48.0    Northern Spain   \n",
       "57109   del Comune di La Morra      90   40.0          Piedmont   \n",
       "75826                      NaN      92    NaN          Bordeaux   \n",
       "69539                      NaN      85   13.0  Colchagua Valley   \n",
       "49409                      NaN      88   10.0          Bordeaux   \n",
       "\n",
       "              region_1 region_2        taster_name taster_twitter_handle  \\\n",
       "125903          Bierzo      NaN  Michael Schachner           @wineschach   \n",
       "57109           Barolo      NaN      Kerin O’Keefe          @kerinokeefe   \n",
       "75826     Saint-Julien      NaN         Roger Voss            @vossroger   \n",
       "69539              NaN      NaN  Michael Schachner           @wineschach   \n",
       "49409   Bordeaux Blanc      NaN         Roger Voss            @vossroger   \n",
       "\n",
       "                                                 title  \\\n",
       "125903  Dominio de Tares 2007 Bembibre Mencía (Bierzo)   \n",
       "57109     Ellena 2012 del Comune di La Morra  (Barolo)   \n",
       "75826         Château Langoa Barton 2005  Saint-Julien   \n",
       "69539               Calcu 2014 Rosé (Colchagua Valley)   \n",
       "49409       Château Terres Douces 2016  Bordeaux Blanc   \n",
       "\n",
       "                           variety                 winery  \n",
       "125903                      Mencía       Dominio de Tares  \n",
       "57109                     Nebbiolo                 Ellena  \n",
       "75826     Bordeaux-style Red Blend  Château Langoa Barton  \n",
       "69539                         Rosé                  Calcu  \n",
       "49409   Bordeaux-style White Blend  Château Terres Douces  "
      ]
     },
     "execution_count": 4,
     "metadata": {},
     "output_type": "execute_result"
    }
   ],
   "source": [
    "missing_values = [\"n/a\", \"na\", \"--\"]\n",
    "raw_wine_data = pd.read_csv(wine_data_path, na_values = missing_values)\n",
    "raw_wine_data.sample(5)"
   ]
  },
  {
   "cell_type": "code",
   "execution_count": 5,
   "metadata": {},
   "outputs": [
    {
     "data": {
      "text/plain": [
       "['Unnamed: 0',\n",
       " 'country',\n",
       " 'description',\n",
       " 'designation',\n",
       " 'points',\n",
       " 'price',\n",
       " 'province',\n",
       " 'region_1',\n",
       " 'region_2',\n",
       " 'taster_name',\n",
       " 'taster_twitter_handle',\n",
       " 'title',\n",
       " 'variety',\n",
       " 'winery']"
      ]
     },
     "execution_count": 5,
     "metadata": {},
     "output_type": "execute_result"
    }
   ],
   "source": [
    "list(raw_wine_data)"
   ]
  },
  {
   "cell_type": "code",
   "execution_count": 22,
   "metadata": {
    "collapsed": true
   },
   "outputs": [],
   "source": [
    "filtered_wine_data = raw_wine_data[['points', 'price']]\n",
    "# filtered_wine_data = raw_wine_data[['country', 'points', 'price', 'province', 'variety', 'winery']]"
   ]
  },
  {
   "cell_type": "code",
   "execution_count": 23,
   "metadata": {},
   "outputs": [
    {
     "data": {
      "text/html": [
       "<div>\n",
       "<style>\n",
       "    .dataframe thead tr:only-child th {\n",
       "        text-align: right;\n",
       "    }\n",
       "\n",
       "    .dataframe thead th {\n",
       "        text-align: left;\n",
       "    }\n",
       "\n",
       "    .dataframe tbody tr th {\n",
       "        vertical-align: top;\n",
       "    }\n",
       "</style>\n",
       "<table border=\"1\" class=\"dataframe\">\n",
       "  <thead>\n",
       "    <tr style=\"text-align: right;\">\n",
       "      <th></th>\n",
       "      <th>points</th>\n",
       "      <th>price</th>\n",
       "    </tr>\n",
       "  </thead>\n",
       "  <tbody>\n",
       "    <tr>\n",
       "      <th>count</th>\n",
       "      <td>129971.000000</td>\n",
       "      <td>120975.000000</td>\n",
       "    </tr>\n",
       "    <tr>\n",
       "      <th>mean</th>\n",
       "      <td>88.447138</td>\n",
       "      <td>35.363389</td>\n",
       "    </tr>\n",
       "    <tr>\n",
       "      <th>std</th>\n",
       "      <td>3.039730</td>\n",
       "      <td>41.022218</td>\n",
       "    </tr>\n",
       "    <tr>\n",
       "      <th>min</th>\n",
       "      <td>80.000000</td>\n",
       "      <td>4.000000</td>\n",
       "    </tr>\n",
       "    <tr>\n",
       "      <th>25%</th>\n",
       "      <td>86.000000</td>\n",
       "      <td>17.000000</td>\n",
       "    </tr>\n",
       "    <tr>\n",
       "      <th>50%</th>\n",
       "      <td>88.000000</td>\n",
       "      <td>25.000000</td>\n",
       "    </tr>\n",
       "    <tr>\n",
       "      <th>75%</th>\n",
       "      <td>91.000000</td>\n",
       "      <td>42.000000</td>\n",
       "    </tr>\n",
       "    <tr>\n",
       "      <th>max</th>\n",
       "      <td>100.000000</td>\n",
       "      <td>3300.000000</td>\n",
       "    </tr>\n",
       "  </tbody>\n",
       "</table>\n",
       "</div>"
      ],
      "text/plain": [
       "              points          price\n",
       "count  129971.000000  120975.000000\n",
       "mean       88.447138      35.363389\n",
       "std         3.039730      41.022218\n",
       "min        80.000000       4.000000\n",
       "25%        86.000000      17.000000\n",
       "50%        88.000000      25.000000\n",
       "75%        91.000000      42.000000\n",
       "max       100.000000    3300.000000"
      ]
     },
     "execution_count": 23,
     "metadata": {},
     "output_type": "execute_result"
    }
   ],
   "source": [
    "filtered_wine_data.describe()"
   ]
  },
  {
   "cell_type": "code",
   "execution_count": 24,
   "metadata": {},
   "outputs": [
    {
     "data": {
      "text/plain": [
       "points       0\n",
       "price     8996\n",
       "dtype: int64"
      ]
     },
     "execution_count": 24,
     "metadata": {},
     "output_type": "execute_result"
    }
   ],
   "source": [
    "pd.isnull(filtered_wine_data).sum()"
   ]
  },
  {
   "cell_type": "code",
   "execution_count": 25,
   "metadata": {},
   "outputs": [
    {
     "name": "stdout",
     "output_type": "stream",
     "text": [
      "129971\n",
      "120975\n"
     ]
    }
   ],
   "source": [
    "print(filtered_wine_data.shape[0])\n",
    "clean_wine_data = filtered_wine_data.dropna()\n",
    "print(clean_wine_data.shape[0])"
   ]
  },
  {
   "cell_type": "code",
   "execution_count": 26,
   "metadata": {},
   "outputs": [
    {
     "data": {
      "text/html": [
       "<div>\n",
       "<style>\n",
       "    .dataframe thead tr:only-child th {\n",
       "        text-align: right;\n",
       "    }\n",
       "\n",
       "    .dataframe thead th {\n",
       "        text-align: left;\n",
       "    }\n",
       "\n",
       "    .dataframe tbody tr th {\n",
       "        vertical-align: top;\n",
       "    }\n",
       "</style>\n",
       "<table border=\"1\" class=\"dataframe\">\n",
       "  <thead>\n",
       "    <tr style=\"text-align: right;\">\n",
       "      <th></th>\n",
       "      <th>points</th>\n",
       "      <th>price</th>\n",
       "    </tr>\n",
       "  </thead>\n",
       "  <tbody>\n",
       "    <tr>\n",
       "      <th>count</th>\n",
       "      <td>120975.000000</td>\n",
       "      <td>120975.000000</td>\n",
       "    </tr>\n",
       "    <tr>\n",
       "      <th>mean</th>\n",
       "      <td>88.421881</td>\n",
       "      <td>35.363389</td>\n",
       "    </tr>\n",
       "    <tr>\n",
       "      <th>std</th>\n",
       "      <td>3.044508</td>\n",
       "      <td>41.022218</td>\n",
       "    </tr>\n",
       "    <tr>\n",
       "      <th>min</th>\n",
       "      <td>80.000000</td>\n",
       "      <td>4.000000</td>\n",
       "    </tr>\n",
       "    <tr>\n",
       "      <th>25%</th>\n",
       "      <td>86.000000</td>\n",
       "      <td>17.000000</td>\n",
       "    </tr>\n",
       "    <tr>\n",
       "      <th>50%</th>\n",
       "      <td>88.000000</td>\n",
       "      <td>25.000000</td>\n",
       "    </tr>\n",
       "    <tr>\n",
       "      <th>75%</th>\n",
       "      <td>91.000000</td>\n",
       "      <td>42.000000</td>\n",
       "    </tr>\n",
       "    <tr>\n",
       "      <th>max</th>\n",
       "      <td>100.000000</td>\n",
       "      <td>3300.000000</td>\n",
       "    </tr>\n",
       "  </tbody>\n",
       "</table>\n",
       "</div>"
      ],
      "text/plain": [
       "              points          price\n",
       "count  120975.000000  120975.000000\n",
       "mean       88.421881      35.363389\n",
       "std         3.044508      41.022218\n",
       "min        80.000000       4.000000\n",
       "25%        86.000000      17.000000\n",
       "50%        88.000000      25.000000\n",
       "75%        91.000000      42.000000\n",
       "max       100.000000    3300.000000"
      ]
     },
     "execution_count": 26,
     "metadata": {},
     "output_type": "execute_result"
    }
   ],
   "source": [
    "clean_wine_data.describe()"
   ]
  },
  {
   "cell_type": "code",
   "execution_count": 12,
   "metadata": {},
   "outputs": [],
   "source": [
    "# countries = clean_wine_data.country.unique()\n",
    "# print(countries)\n",
    "\n",
    "# tasters = clean_wine_data.taster_name.unique()\n",
    "# print(tasters)\n",
    "\n",
    "# wineries = clean_wine_data.winery.unique()\n",
    "# print(len(wineries))"
   ]
  },
  {
   "cell_type": "code",
   "execution_count": 13,
   "metadata": {},
   "outputs": [],
   "source": [
    "# portugal_wine = clean_wine_data.loc[clean_wine_data['country'] == 'Portugal']\n",
    "# us_wine = clean_wine_data.loc[clean_wine_data['country'] == 'US']\n",
    "\n",
    "# us_wine.describe()"
   ]
  },
  {
   "cell_type": "code",
   "execution_count": 14,
   "metadata": {},
   "outputs": [
    {
     "data": {
      "text/html": [
       "<div>\n",
       "<style>\n",
       "    .dataframe thead tr:only-child th {\n",
       "        text-align: right;\n",
       "    }\n",
       "\n",
       "    .dataframe thead th {\n",
       "        text-align: left;\n",
       "    }\n",
       "\n",
       "    .dataframe tbody tr th {\n",
       "        vertical-align: top;\n",
       "    }\n",
       "</style>\n",
       "<table border=\"1\" class=\"dataframe\">\n",
       "  <thead>\n",
       "    <tr style=\"text-align: right;\">\n",
       "      <th></th>\n",
       "      <th>points</th>\n",
       "      <th>price</th>\n",
       "    </tr>\n",
       "  </thead>\n",
       "  <tbody>\n",
       "    <tr>\n",
       "      <th>points</th>\n",
       "      <td>1.000000</td>\n",
       "      <td>0.416167</td>\n",
       "    </tr>\n",
       "    <tr>\n",
       "      <th>price</th>\n",
       "      <td>0.416167</td>\n",
       "      <td>1.000000</td>\n",
       "    </tr>\n",
       "  </tbody>\n",
       "</table>\n",
       "</div>"
      ],
      "text/plain": [
       "          points     price\n",
       "points  1.000000  0.416167\n",
       "price   0.416167  1.000000"
      ]
     },
     "execution_count": 14,
     "metadata": {},
     "output_type": "execute_result"
    }
   ],
   "source": [
    "clean_wine_data.corr()"
   ]
  },
  {
   "cell_type": "code",
   "execution_count": 15,
   "metadata": {},
   "outputs": [],
   "source": [
    "# us_wine['points'].hist(label='US wine', color='r', alpha=0.5, normed=True)\n",
    "# plt.axvline(us_wine['points'].mean())\n",
    "# portugal_wine['points'].hist(label='Portugal wine', color='b', alpha=0.5, normed=True)\n",
    "# plt.axvline(portugal_wine['points'].mean())\n",
    "\n",
    "# plt.ylabel('Normalized counts')\n",
    "# plt.xlabel('points')\n",
    "# plt.title('Histogram of the score of US and Portugal wine reviews.')\n",
    "# plt.legend()\n",
    "# plt.show()\n",
    "\n",
    "# clean_wine_data['points'].hist(label='All wine', color='r', normed=True)\n",
    "\n",
    "# plt.ylabel('Normalized counts')\n",
    "# plt.xlabel('points')\n",
    "# plt.title('Histogram of the score of all wine reviews.')\n",
    "# plt.legend()\n",
    "# plt.show()\n"
   ]
  },
  {
   "cell_type": "code",
   "execution_count": 14,
   "metadata": {
    "collapsed": true,
    "scrolled": false
   },
   "outputs": [],
   "source": [
    "# roger = clean_wine_data.loc[clean_wine_data['taster_name'] == 'Roger Voss']\n",
    "\n",
    "# corr = roger['points'].groupby(roger['price']).mean()\n",
    "\n",
    "# print(corr)\n",
    "# plt.plot(corr)\n",
    "# plt.show()"
   ]
  },
  {
   "cell_type": "code",
   "execution_count": 96,
   "metadata": {},
   "outputs": [
    {
     "data": {
      "image/png": "[encoded data removed]",
      "text/plain": [
       "<matplotlib.figure.Figure at 0x7fc0693a4048>"
      ]
     },
     "metadata": {},
     "output_type": "display_data"
    },
    {
     "data": {
      "image/png": "[encoded data removed]",
      "text/plain": [
       "<matplotlib.figure.Figure at 0x7fc05e01d2e8>"
      ]
     },
     "metadata": {},
     "output_type": "display_data"
    }
   ],
   "source": [
    "prices = clean_wine_data.loc[clean_wine_data['price'] < 1000]\n",
    "points = clean_wine_data.loc[clean_wine_data['price'] < 1000]\n",
    "\n",
    "price_means = prices['price'].groupby(prices['points']).mean()\n",
    "points_means = points['points'].groupby(points['price']).mean()\n",
    "\n",
    "plt.scatter(prices['points'], prices['price'], 0.5, color='k')\n",
    "plt.plot(price_means, c='r')\n",
    "plt.show()\n",
    "\n",
    "plt.scatter(points['price'], points['points'], 0.5, color='k')\n",
    "plt.plot(points_means, c='r')\n",
    "# plt.xscale('log')\n",
    "# plt.yscale('log')\n",
    "plt.show()"
   ]
  },
  {
   "cell_type": "code",
   "execution_count": 97,
   "metadata": {},
   "outputs": [
    {
     "name": "stderr",
     "output_type": "stream",
     "text": [
      "/home/joey/anaconda3/lib/python3.6/site-packages/ipykernel_launcher.py:3: SettingWithCopyWarning: \n",
      "A value is trying to be set on a copy of a slice from a DataFrame.\n",
      "Try using .loc[row_indexer,col_indexer] = value instead\n",
      "\n",
      "See the caveats in the documentation: http://pandas.pydata.org/pandas-docs/stable/indexing.html#indexing-view-versus-copy\n",
      "  This is separate from the ipykernel package so we can avoid doing imports until\n"
     ]
    }
   ],
   "source": [
    "test = clean_wine_data.loc[clean_wine_data['price'] < 1000]\n",
    "\n",
    "test['bin'] = pd.qcut(test['price'], 23)\n",
    "test_point_means = test['points'].groupby(test['bin']).mean()"
   ]
  },
  {
   "cell_type": "code",
   "execution_count": 104,
   "metadata": {},
   "outputs": [
    {
     "data": {
      "image/png": "[encoded data removed]",
      "text/plain": [
       "<matplotlib.figure.Figure at 0x7fc04c398438>"
      ]
     },
     "metadata": {},
     "output_type": "display_data"
    }
   ],
   "source": [
    "plt.figure(figsize=(15, 7))\n",
    "\n",
    "# print(test_point_means)\n",
    "\n",
    "x_tick_label = [str(x) for x in test['bin']]\n",
    "xs = [str(x) for x in len(test.bin.unique)]\n",
    "\n",
    "plt.scatter(xs, test['points'], 0.5, color='k')\n",
    "# plt.plot(xs, test_point_means, c='r')\n",
    "plt.tick_params(axis='x', rotation=45)\n",
    "\n",
    "plt.show()"
   ]
  },
  {
   "cell_type": "code",
   "execution_count": null,
   "metadata": {
    "collapsed": true
   },
   "outputs": [],
   "source": []
  }
 ],
 "metadata": {
  "kernelspec": {
   "display_name": "Python 3",
   "language": "python",
   "name": "python3"
  },
  "language_info": {
   "codemirror_mode": {
    "name": "ipython",
    "version": 3
   },
   "file_extension": ".py",
   "mimetype": "text/x-python",
   "name": "python",
   "nbconvert_exporter": "python",
   "pygments_lexer": "ipython3",
   "version": "3.6.3"
  }
 },
 "nbformat": 4,
 "nbformat_minor": 2
}
