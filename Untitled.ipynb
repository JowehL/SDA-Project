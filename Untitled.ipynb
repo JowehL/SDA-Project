{
 "cells": [
  {
   "cell_type": "code",
   "execution_count": 1,
   "metadata": {},
   "outputs": [],
   "source": [
    "import pandas as pd\n",
    "import numpy as np\n",
    "import matplotlib.pyplot as plt"
   ]
  },
  {
   "cell_type": "code",
   "execution_count": 2,
   "metadata": {},
   "outputs": [],
   "source": [
    "wine_data_path = \"./data/winemag-data-130k-v2.csv\" "
   ]
  },
  {
   "cell_type": "code",
   "execution_count": 3,
   "metadata": {},
   "outputs": [
    {
     "data": {
      "text/html": [
       "<div>\n",
       "<style scoped>\n",
       "    .dataframe tbody tr th:only-of-type {\n",
       "        vertical-align: middle;\n",
       "    }\n",
       "\n",
       "    .dataframe tbody tr th {\n",
       "        vertical-align: top;\n",
       "    }\n",
       "\n",
       "    .dataframe thead th {\n",
       "        text-align: right;\n",
       "    }\n",
       "</style>\n",
       "<table border=\"1\" class=\"dataframe\">\n",
       "  <thead>\n",
       "    <tr style=\"text-align: right;\">\n",
       "      <th></th>\n",
       "      <th>Unnamed: 0</th>\n",
       "      <th>country</th>\n",
       "      <th>description</th>\n",
       "      <th>designation</th>\n",
       "      <th>points</th>\n",
       "      <th>price</th>\n",
       "      <th>province</th>\n",
       "      <th>region_1</th>\n",
       "      <th>region_2</th>\n",
       "      <th>taster_name</th>\n",
       "      <th>taster_twitter_handle</th>\n",
       "      <th>title</th>\n",
       "      <th>variety</th>\n",
       "      <th>winery</th>\n",
       "      <th>year</th>\n",
       "    </tr>\n",
       "  </thead>\n",
       "  <tbody>\n",
       "    <tr>\n",
       "      <th>41990</th>\n",
       "      <td>41990</td>\n",
       "      <td>Italy</td>\n",
       "      <td>Aromas of beeswax and acacia carry over to the...</td>\n",
       "      <td>Extra Dry</td>\n",
       "      <td>87</td>\n",
       "      <td>19.0</td>\n",
       "      <td>Veneto</td>\n",
       "      <td>Valdobbiadene Prosecco Superiore</td>\n",
       "      <td>NaN</td>\n",
       "      <td>Kerin O’Keefe</td>\n",
       "      <td>@kerinokeefe</td>\n",
       "      <td>Cà di Rajo 2014 Extra Dry  (Valdobbiadene Pros...</td>\n",
       "      <td>Glera</td>\n",
       "      <td>Cà di Rajo</td>\n",
       "      <td>2014</td>\n",
       "    </tr>\n",
       "    <tr>\n",
       "      <th>18840</th>\n",
       "      <td>18840</td>\n",
       "      <td>Italy</td>\n",
       "      <td>Bombino Bianco tends to shows bright, sharp ac...</td>\n",
       "      <td>Giancarlo Ceci</td>\n",
       "      <td>86</td>\n",
       "      <td>NaN</td>\n",
       "      <td>Southern Italy</td>\n",
       "      <td>Castel del Monte</td>\n",
       "      <td>NaN</td>\n",
       "      <td>NaN</td>\n",
       "      <td>NaN</td>\n",
       "      <td>Agrinatura 2009 Giancarlo Ceci Bombino Bianco ...</td>\n",
       "      <td>Bombino Bianco</td>\n",
       "      <td>Agrinatura</td>\n",
       "      <td>2009</td>\n",
       "    </tr>\n",
       "    <tr>\n",
       "      <th>103736</th>\n",
       "      <td>103736</td>\n",
       "      <td>US</td>\n",
       "      <td>Soft and supple yet powerful on the palate, th...</td>\n",
       "      <td>Rutherford Hillside Reserve</td>\n",
       "      <td>90</td>\n",
       "      <td>150.0</td>\n",
       "      <td>California</td>\n",
       "      <td>Rutherford</td>\n",
       "      <td>Napa</td>\n",
       "      <td>Virginie Boone</td>\n",
       "      <td>@vboone</td>\n",
       "      <td>Flora Springs 2013 Rutherford Hillside Reserve...</td>\n",
       "      <td>Cabernet Sauvignon</td>\n",
       "      <td>Flora Springs</td>\n",
       "      <td>2013</td>\n",
       "    </tr>\n",
       "    <tr>\n",
       "      <th>23447</th>\n",
       "      <td>23447</td>\n",
       "      <td>Italy</td>\n",
       "      <td>Muscular tannins nearly mask raspberry and che...</td>\n",
       "      <td>Pian Balbo</td>\n",
       "      <td>86</td>\n",
       "      <td>18.0</td>\n",
       "      <td>Piedmont</td>\n",
       "      <td>Dolcetto d'Alba</td>\n",
       "      <td>NaN</td>\n",
       "      <td>NaN</td>\n",
       "      <td>NaN</td>\n",
       "      <td>Poderi Colla 2006 Pian Balbo  (Dolcetto d'Alba)</td>\n",
       "      <td>Dolcetto</td>\n",
       "      <td>Poderi Colla</td>\n",
       "      <td>2006</td>\n",
       "    </tr>\n",
       "    <tr>\n",
       "      <th>96122</th>\n",
       "      <td>96122</td>\n",
       "      <td>Spain</td>\n",
       "      <td>This Tempranillo looks and smells ripe, and it...</td>\n",
       "      <td>Edición Limitada</td>\n",
       "      <td>87</td>\n",
       "      <td>25.0</td>\n",
       "      <td>Northern Spain</td>\n",
       "      <td>Rioja</td>\n",
       "      <td>NaN</td>\n",
       "      <td>Michael Schachner</td>\n",
       "      <td>@wineschach</td>\n",
       "      <td>Rioja Vega 2015 Edición Limitada  (Rioja)</td>\n",
       "      <td>Tempranillo</td>\n",
       "      <td>Rioja Vega</td>\n",
       "      <td>2015</td>\n",
       "    </tr>\n",
       "  </tbody>\n",
       "</table>\n",
       "</div>"
      ],
      "text/plain": [
       "        Unnamed: 0 country                                        description  \\\n",
       "41990        41990   Italy  Aromas of beeswax and acacia carry over to the...   \n",
       "18840        18840   Italy  Bombino Bianco tends to shows bright, sharp ac...   \n",
       "103736      103736      US  Soft and supple yet powerful on the palate, th...   \n",
       "23447        23447   Italy  Muscular tannins nearly mask raspberry and che...   \n",
       "96122        96122   Spain  This Tempranillo looks and smells ripe, and it...   \n",
       "\n",
       "                        designation  points  price        province  \\\n",
       "41990                     Extra Dry      87   19.0          Veneto   \n",
       "18840                Giancarlo Ceci      86    NaN  Southern Italy   \n",
       "103736  Rutherford Hillside Reserve      90  150.0      California   \n",
       "23447                    Pian Balbo      86   18.0        Piedmont   \n",
       "96122              Edición Limitada      87   25.0  Northern Spain   \n",
       "\n",
       "                                region_1 region_2        taster_name  \\\n",
       "41990   Valdobbiadene Prosecco Superiore      NaN      Kerin O’Keefe   \n",
       "18840                   Castel del Monte      NaN                NaN   \n",
       "103736                        Rutherford     Napa     Virginie Boone   \n",
       "23447                    Dolcetto d'Alba      NaN                NaN   \n",
       "96122                              Rioja      NaN  Michael Schachner   \n",
       "\n",
       "       taster_twitter_handle  \\\n",
       "41990           @kerinokeefe   \n",
       "18840                    NaN   \n",
       "103736               @vboone   \n",
       "23447                    NaN   \n",
       "96122            @wineschach   \n",
       "\n",
       "                                                    title             variety  \\\n",
       "41990   Cà di Rajo 2014 Extra Dry  (Valdobbiadene Pros...               Glera   \n",
       "18840   Agrinatura 2009 Giancarlo Ceci Bombino Bianco ...      Bombino Bianco   \n",
       "103736  Flora Springs 2013 Rutherford Hillside Reserve...  Cabernet Sauvignon   \n",
       "23447     Poderi Colla 2006 Pian Balbo  (Dolcetto d'Alba)            Dolcetto   \n",
       "96122           Rioja Vega 2015 Edición Limitada  (Rioja)         Tempranillo   \n",
       "\n",
       "               winery  year  \n",
       "41990      Cà di Rajo  2014  \n",
       "18840      Agrinatura  2009  \n",
       "103736  Flora Springs  2013  \n",
       "23447    Poderi Colla  2006  \n",
       "96122      Rioja Vega  2015  "
      ]
     },
     "execution_count": 3,
     "metadata": {},
     "output_type": "execute_result"
    }
   ],
   "source": [
    "missing_values = [\"n/a\", \"na\", \"--\"]\n",
    "raw_wine_data = pd.read_csv(wine_data_path, na_values = missing_values)\n",
    "\n",
    "def get_year(string, list):\n",
    "    for word in string.split():\n",
    "        if word.isdigit():\n",
    "            list.append(word)\n",
    "            return True\n",
    "\n",
    "    list.append('NaN')\n",
    "    return False\n",
    "\n",
    "raw_wine_data.sample(5)\n",
    "\n",
    "years = []\n",
    "raw_wine_data['title'].apply(lambda x: get_year(x, years))\n",
    "raw_wine_data['year'] = years\n",
    "\n",
    "raw_wine_data.sample(5)"
   ]
  },
  {
   "cell_type": "code",
   "execution_count": 4,
   "metadata": {},
   "outputs": [
    {
     "data": {
      "text/plain": [
       "['Unnamed: 0',\n",
       " 'country',\n",
       " 'description',\n",
       " 'designation',\n",
       " 'points',\n",
       " 'price',\n",
       " 'province',\n",
       " 'region_1',\n",
       " 'region_2',\n",
       " 'taster_name',\n",
       " 'taster_twitter_handle',\n",
       " 'title',\n",
       " 'variety',\n",
       " 'winery',\n",
       " 'year']"
      ]
     },
     "execution_count": 4,
     "metadata": {},
     "output_type": "execute_result"
    }
   ],
   "source": [
    "list(raw_wine_data)"
   ]
  },
  {
   "cell_type": "code",
   "execution_count": 5,
   "metadata": {},
   "outputs": [],
   "source": [
    "filtered_wine_data = raw_wine_data[['country', 'points', 'price', 'province', 'taster_name', 'title', 'variety', 'winery']]\n",
    "# filtered_wine_data = raw_wine_data[['country', 'points', 'price', 'province', 'variety', 'winery']]"
   ]
  },
  {
   "cell_type": "code",
   "execution_count": 6,
   "metadata": {},
   "outputs": [
    {
     "data": {
      "text/html": [
       "<div>\n",
       "<style scoped>\n",
       "    .dataframe tbody tr th:only-of-type {\n",
       "        vertical-align: middle;\n",
       "    }\n",
       "\n",
       "    .dataframe tbody tr th {\n",
       "        vertical-align: top;\n",
       "    }\n",
       "\n",
       "    .dataframe thead th {\n",
       "        text-align: right;\n",
       "    }\n",
       "</style>\n",
       "<table border=\"1\" class=\"dataframe\">\n",
       "  <thead>\n",
       "    <tr style=\"text-align: right;\">\n",
       "      <th></th>\n",
       "      <th>points</th>\n",
       "      <th>price</th>\n",
       "    </tr>\n",
       "  </thead>\n",
       "  <tbody>\n",
       "    <tr>\n",
       "      <th>count</th>\n",
       "      <td>129971.000000</td>\n",
       "      <td>120975.000000</td>\n",
       "    </tr>\n",
       "    <tr>\n",
       "      <th>mean</th>\n",
       "      <td>88.447138</td>\n",
       "      <td>35.363389</td>\n",
       "    </tr>\n",
       "    <tr>\n",
       "      <th>std</th>\n",
       "      <td>3.039730</td>\n",
       "      <td>41.022218</td>\n",
       "    </tr>\n",
       "    <tr>\n",
       "      <th>min</th>\n",
       "      <td>80.000000</td>\n",
       "      <td>4.000000</td>\n",
       "    </tr>\n",
       "    <tr>\n",
       "      <th>25%</th>\n",
       "      <td>86.000000</td>\n",
       "      <td>17.000000</td>\n",
       "    </tr>\n",
       "    <tr>\n",
       "      <th>50%</th>\n",
       "      <td>88.000000</td>\n",
       "      <td>25.000000</td>\n",
       "    </tr>\n",
       "    <tr>\n",
       "      <th>75%</th>\n",
       "      <td>91.000000</td>\n",
       "      <td>42.000000</td>\n",
       "    </tr>\n",
       "    <tr>\n",
       "      <th>max</th>\n",
       "      <td>100.000000</td>\n",
       "      <td>3300.000000</td>\n",
       "    </tr>\n",
       "  </tbody>\n",
       "</table>\n",
       "</div>"
      ],
      "text/plain": [
       "              points          price\n",
       "count  129971.000000  120975.000000\n",
       "mean       88.447138      35.363389\n",
       "std         3.039730      41.022218\n",
       "min        80.000000       4.000000\n",
       "25%        86.000000      17.000000\n",
       "50%        88.000000      25.000000\n",
       "75%        91.000000      42.000000\n",
       "max       100.000000    3300.000000"
      ]
     },
     "execution_count": 6,
     "metadata": {},
     "output_type": "execute_result"
    }
   ],
   "source": [
    "filtered_wine_data.describe()"
   ]
  },
  {
   "cell_type": "code",
   "execution_count": 7,
   "metadata": {},
   "outputs": [
    {
     "data": {
      "text/plain": [
       "country           63\n",
       "points             0\n",
       "price           8996\n",
       "province          63\n",
       "taster_name    26244\n",
       "title              0\n",
       "variety            1\n",
       "winery             0\n",
       "dtype: int64"
      ]
     },
     "execution_count": 7,
     "metadata": {},
     "output_type": "execute_result"
    }
   ],
   "source": [
    "pd.isnull(filtered_wine_data).sum()"
   ]
  },
  {
   "cell_type": "code",
   "execution_count": 8,
   "metadata": {},
   "outputs": [
    {
     "name": "stdout",
     "output_type": "stream",
     "text": [
      "129971\n",
      "96420\n"
     ]
    }
   ],
   "source": [
    "print(filtered_wine_data.shape[0])\n",
    "clean_wine_data = filtered_wine_data.dropna()\n",
    "print(clean_wine_data.shape[0])"
   ]
  },
  {
   "cell_type": "code",
   "execution_count": 9,
   "metadata": {},
   "outputs": [
    {
     "data": {
      "text/html": [
       "<div>\n",
       "<style scoped>\n",
       "    .dataframe tbody tr th:only-of-type {\n",
       "        vertical-align: middle;\n",
       "    }\n",
       "\n",
       "    .dataframe tbody tr th {\n",
       "        vertical-align: top;\n",
       "    }\n",
       "\n",
       "    .dataframe thead th {\n",
       "        text-align: right;\n",
       "    }\n",
       "</style>\n",
       "<table border=\"1\" class=\"dataframe\">\n",
       "  <thead>\n",
       "    <tr style=\"text-align: right;\">\n",
       "      <th></th>\n",
       "      <th>points</th>\n",
       "      <th>price</th>\n",
       "    </tr>\n",
       "  </thead>\n",
       "  <tbody>\n",
       "    <tr>\n",
       "      <th>count</th>\n",
       "      <td>96420.000000</td>\n",
       "      <td>96420.000000</td>\n",
       "    </tr>\n",
       "    <tr>\n",
       "      <th>mean</th>\n",
       "      <td>88.585625</td>\n",
       "      <td>35.005009</td>\n",
       "    </tr>\n",
       "    <tr>\n",
       "      <th>std</th>\n",
       "      <td>2.951817</td>\n",
       "      <td>43.069060</td>\n",
       "    </tr>\n",
       "    <tr>\n",
       "      <th>min</th>\n",
       "      <td>80.000000</td>\n",
       "      <td>4.000000</td>\n",
       "    </tr>\n",
       "    <tr>\n",
       "      <th>25%</th>\n",
       "      <td>87.000000</td>\n",
       "      <td>17.000000</td>\n",
       "    </tr>\n",
       "    <tr>\n",
       "      <th>50%</th>\n",
       "      <td>88.000000</td>\n",
       "      <td>25.000000</td>\n",
       "    </tr>\n",
       "    <tr>\n",
       "      <th>75%</th>\n",
       "      <td>91.000000</td>\n",
       "      <td>40.000000</td>\n",
       "    </tr>\n",
       "    <tr>\n",
       "      <th>max</th>\n",
       "      <td>100.000000</td>\n",
       "      <td>3300.000000</td>\n",
       "    </tr>\n",
       "  </tbody>\n",
       "</table>\n",
       "</div>"
      ],
      "text/plain": [
       "             points         price\n",
       "count  96420.000000  96420.000000\n",
       "mean      88.585625     35.005009\n",
       "std        2.951817     43.069060\n",
       "min       80.000000      4.000000\n",
       "25%       87.000000     17.000000\n",
       "50%       88.000000     25.000000\n",
       "75%       91.000000     40.000000\n",
       "max      100.000000   3300.000000"
      ]
     },
     "execution_count": 9,
     "metadata": {},
     "output_type": "execute_result"
    }
   ],
   "source": [
    "clean_wine_data.describe()"
   ]
  },
  {
   "cell_type": "code",
   "execution_count": 10,
   "metadata": {},
   "outputs": [
    {
     "name": "stdout",
     "output_type": "stream",
     "text": [
      "['Portugal' 'US' 'Spain' 'Italy' 'France' 'Germany' 'Argentina' 'Chile'\n",
      " 'Australia' 'Austria' 'South Africa' 'New Zealand' 'Israel' 'Hungary'\n",
      " 'Greece' 'Romania' 'Canada' 'Mexico' 'Turkey' 'Czech Republic' 'Slovenia'\n",
      " 'Luxembourg' 'Croatia' 'Georgia' 'Uruguay' 'England' 'Lebanon' 'Serbia'\n",
      " 'Brazil' 'Moldova' 'Morocco' 'Peru' 'India' 'Bulgaria' 'Cyprus' 'Armenia'\n",
      " 'Switzerland' 'Bosnia and Herzegovina' 'Ukraine' 'Slovakia' 'Macedonia'\n",
      " 'China']\n",
      "['Roger Voss' 'Paul Gregutt' 'Alexander Peartree' 'Michael Schachner'\n",
      " 'Kerin O’Keefe' 'Anna Lee C. Iijima' 'Virginie Boone' 'Matt Kettmann'\n",
      " 'Sean P. Sullivan' 'Jim Gordon' 'Joe Czerwinski' 'Anne Krebiehl\\xa0MW'\n",
      " 'Lauren Buzzeo' 'Mike DeSimone' 'Jeff Jenssen' 'Susan Kostrzewa'\n",
      " 'Carrie Dykes' 'Fiona Adams' 'Christina Pickard']\n",
      "13832\n"
     ]
    }
   ],
   "source": [
    "countries = clean_wine_data.country.unique()\n",
    "print(countries)\n",
    "\n",
    "tasters = clean_wine_data.taster_name.unique()\n",
    "print(tasters)\n",
    "\n",
    "wineries = clean_wine_data.winery.unique()\n",
    "print(len(wineries))"
   ]
  },
  {
   "cell_type": "code",
   "execution_count": 11,
   "metadata": {},
   "outputs": [
    {
     "data": {
      "text/html": [
       "<div>\n",
       "<style scoped>\n",
       "    .dataframe tbody tr th:only-of-type {\n",
       "        vertical-align: middle;\n",
       "    }\n",
       "\n",
       "    .dataframe tbody tr th {\n",
       "        vertical-align: top;\n",
       "    }\n",
       "\n",
       "    .dataframe thead th {\n",
       "        text-align: right;\n",
       "    }\n",
       "</style>\n",
       "<table border=\"1\" class=\"dataframe\">\n",
       "  <thead>\n",
       "    <tr style=\"text-align: right;\">\n",
       "      <th></th>\n",
       "      <th>points</th>\n",
       "      <th>price</th>\n",
       "    </tr>\n",
       "  </thead>\n",
       "  <tbody>\n",
       "    <tr>\n",
       "      <th>count</th>\n",
       "      <td>37511.000000</td>\n",
       "      <td>37511.000000</td>\n",
       "    </tr>\n",
       "    <tr>\n",
       "      <th>mean</th>\n",
       "      <td>88.980139</td>\n",
       "      <td>36.188451</td>\n",
       "    </tr>\n",
       "    <tr>\n",
       "      <th>std</th>\n",
       "      <td>2.835959</td>\n",
       "      <td>26.107694</td>\n",
       "    </tr>\n",
       "    <tr>\n",
       "      <th>min</th>\n",
       "      <td>80.000000</td>\n",
       "      <td>4.000000</td>\n",
       "    </tr>\n",
       "    <tr>\n",
       "      <th>25%</th>\n",
       "      <td>87.000000</td>\n",
       "      <td>20.000000</td>\n",
       "    </tr>\n",
       "    <tr>\n",
       "      <th>50%</th>\n",
       "      <td>89.000000</td>\n",
       "      <td>30.000000</td>\n",
       "    </tr>\n",
       "    <tr>\n",
       "      <th>75%</th>\n",
       "      <td>91.000000</td>\n",
       "      <td>45.000000</td>\n",
       "    </tr>\n",
       "    <tr>\n",
       "      <th>max</th>\n",
       "      <td>100.000000</td>\n",
       "      <td>2013.000000</td>\n",
       "    </tr>\n",
       "  </tbody>\n",
       "</table>\n",
       "</div>"
      ],
      "text/plain": [
       "             points         price\n",
       "count  37511.000000  37511.000000\n",
       "mean      88.980139     36.188451\n",
       "std        2.835959     26.107694\n",
       "min       80.000000      4.000000\n",
       "25%       87.000000     20.000000\n",
       "50%       89.000000     30.000000\n",
       "75%       91.000000     45.000000\n",
       "max      100.000000   2013.000000"
      ]
     },
     "execution_count": 11,
     "metadata": {},
     "output_type": "execute_result"
    }
   ],
   "source": [
    "portugal_wine = clean_wine_data.loc[clean_wine_data['country'] == 'Portugal']\n",
    "us_wine = clean_wine_data.loc[clean_wine_data['country'] == 'US']\n",
    "\n",
    "us_wine.describe()"
   ]
  },
  {
   "cell_type": "code",
   "execution_count": 12,
   "metadata": {},
   "outputs": [
    {
     "data": {
      "text/html": [
       "<div>\n",
       "<style scoped>\n",
       "    .dataframe tbody tr th:only-of-type {\n",
       "        vertical-align: middle;\n",
       "    }\n",
       "\n",
       "    .dataframe tbody tr th {\n",
       "        vertical-align: top;\n",
       "    }\n",
       "\n",
       "    .dataframe thead th {\n",
       "        text-align: right;\n",
       "    }\n",
       "</style>\n",
       "<table border=\"1\" class=\"dataframe\">\n",
       "  <thead>\n",
       "    <tr style=\"text-align: right;\">\n",
       "      <th></th>\n",
       "      <th>points</th>\n",
       "      <th>price</th>\n",
       "    </tr>\n",
       "  </thead>\n",
       "  <tbody>\n",
       "    <tr>\n",
       "      <th>points</th>\n",
       "      <td>1.000000</td>\n",
       "      <td>0.404002</td>\n",
       "    </tr>\n",
       "    <tr>\n",
       "      <th>price</th>\n",
       "      <td>0.404002</td>\n",
       "      <td>1.000000</td>\n",
       "    </tr>\n",
       "  </tbody>\n",
       "</table>\n",
       "</div>"
      ],
      "text/plain": [
       "          points     price\n",
       "points  1.000000  0.404002\n",
       "price   0.404002  1.000000"
      ]
     },
     "execution_count": 12,
     "metadata": {},
     "output_type": "execute_result"
    }
   ],
   "source": [
    "clean_wine_data.corr()"
   ]
  },
  {
   "cell_type": "code",
   "execution_count": 13,
   "metadata": {},
   "outputs": [
    {
     "data": {
      "image/png": "[encoded data removed]",
      "text/plain": [
       "<matplotlib.figure.Figure at 0x7fcb64b49be0>"
      ]
     },
     "metadata": {},
     "output_type": "display_data"
    },
    {
     "data": {
      "image/png": "[encoded data removed]",
      "text/plain": [
       "<matplotlib.figure.Figure at 0x7fcb6483fcc0>"
      ]
     },
     "metadata": {},
     "output_type": "display_data"
    }
   ],
   "source": [
    "us_wine['points'].hist(label='US wine', color='r', alpha=0.5, normed=True)\n",
    "plt.axvline(us_wine['points'].mean())\n",
    "portugal_wine['points'].hist(label='Portugal wine', color='b', alpha=0.5, normed=True)\n",
    "plt.axvline(portugal_wine['points'].mean())\n",
    "\n",
    "plt.ylabel('Normalized counts')\n",
    "plt.xlabel('points')\n",
    "plt.title('Histogram of the score of US and Portugal wine reviews.')\n",
    "plt.legend()\n",
    "plt.show()\n",
    "\n",
    "clean_wine_data['points'].hist(label='All wine', color='r', normed=True)\n",
    "\n",
    "plt.ylabel('Normalized counts')\n",
    "plt.xlabel('points')\n",
    "plt.title('Histogram of the score of all wine reviews.')\n",
    "plt.legend()\n",
    "plt.show()\n"
   ]
  },
  {
   "cell_type": "code",
   "execution_count": 14,
   "metadata": {
    "scrolled": false
   },
   "outputs": [],
   "source": [
    "# roger = clean_wine_data.loc[clean_wine_data['taster_name'] == 'Roger Voss']\n",
    "\n",
    "# corr = roger['points'].groupby(roger['price']).mean()\n",
    "\n",
    "# # print(corr)\n",
    "# plt.plot(corr)\n",
    "# plt.show()"
   ]
  },
  {
   "cell_type": "code",
   "execution_count": 15,
   "metadata": {
    "scrolled": true
   },
   "outputs": [
    {
     "data": {
      "image/png": "[encoded data removed]",
      "text/plain": [
       "<matplotlib.figure.Figure at 0x7fcb64b1e0f0>"
      ]
     },
     "metadata": {},
     "output_type": "display_data"
    }
   ],
   "source": [
    "prices = clean_wine_data.loc[clean_wine_data['price'] < 1000]\n",
    "\n",
    "plt.scatter(prices['price'], prices['points'])\n",
    "\n",
    "plt.show()"
   ]
  },
  {
   "cell_type": "code",
   "execution_count": 16,
   "metadata": {
    "scrolled": false
   },
   "outputs": [
    {
     "name": "stdout",
     "output_type": "stream",
     "text": [
      "(4471,)\n",
      "[ 80.  80.  80. ...  99.  99. 100.]\n",
      "94.0\n"
     ]
    },
    {
     "name": "stderr",
     "output_type": "stream",
     "text": [
      "/home/jesse/anaconda3/lib/python3.6/site-packages/ipykernel_launcher.py:26: DeprecationWarning: The truth value of an empty array is ambiguous. Returning False, but in future this will result in an error. Use `array.size > 0` to check that an array is not empty.\n",
      "/home/jesse/anaconda3/lib/python3.6/site-packages/ipykernel_launcher.py:33: DeprecationWarning: The truth value of an empty array is ambiguous. Returning False, but in future this will result in an error. Use `array.size > 0` to check that an array is not empty.\n",
      "/home/jesse/anaconda3/lib/python3.6/site-packages/ipykernel_launcher.py:26: DeprecationWarning: elementwise != comparison failed; this will raise an error in the future.\n",
      "/home/jesse/anaconda3/lib/python3.6/site-packages/ipykernel_launcher.py:33: DeprecationWarning: elementwise != comparison failed; this will raise an error in the future.\n"
     ]
    },
    {
     "data": {
      "text/plain": [
       "<matplotlib.figure.Figure at 0x7fcb88632be0>"
      ]
     },
     "metadata": {},
     "output_type": "display_data"
    },
    {
     "data": {
      "image/png": "[encoded data removed]",
      "text/plain": [
       "<matplotlib.figure.Figure at 0x7fcb648717b8>"
      ]
     },
     "metadata": {},
     "output_type": "display_data"
    },
    {
     "name": "stdout",
     "output_type": "stream",
     "text": [
      "Percentage: 99.999999999999994"
     ]
    },
    {
     "data": {
      "text/plain": [
       "<matplotlib.lines.Line2D at 0x7fcb6484a080>"
      ]
     },
     "execution_count": 16,
     "metadata": {},
     "output_type": "execute_result"
    },
    {
     "data": {
      "image/png": "[encoded data removed]",
      "text/plain": [
       "<matplotlib.figure.Figure at 0x7fcb64811eb8>"
      ]
     },
     "metadata": {},
     "output_type": "display_data"
    }
   ],
   "source": [
    "# raw_wine_data[raw_wine_data[\"region_1\"] == \"Salta\"]\n",
    "# for r in raw_wine_data[\"region_1\"].unique():\n",
    "#     print(r)\n",
    "most_occuring_region = raw_wine_data[\"region_1\"].value_counts().idxmax()\n",
    "region_wines = raw_wine_data[raw_wine_data[\"region_1\"] == most_occuring_region]\n",
    "\n",
    "region_wines[\"title\"].value_counts()\n",
    "\n",
    "# region_wines[region_wines[\"title\"] == \"Mumm Napa NV Brut Prestige Sparkling (Napa Valley)\"]\n",
    "\n",
    "plt.figure(figsize=(15, 6))\n",
    "wine_years = region_wines[\"year\"].unique()\n",
    "\n",
    "xs, ys = np.array([]), np.array([])\n",
    "sems = np.array([])\n",
    "ys_mean = np.array([])\n",
    "xs_list, ys_list = [], []\n",
    "percentages_bigger = []\n",
    "\n",
    "wine_years = sorted(wine_years)\n",
    "\n",
    "all_wine_scores = np.array([])\n",
    "\n",
    "for year in wine_years:\n",
    "    scores_year = region_wines[(region_wines[\"year\"] == year)][\"points\"].values\n",
    "    if scores_year != []:\n",
    "        all_wine_scores = np.append(all_wine_scores, scores_year)\n",
    "\n",
    "    if len(year) == 4:\n",
    "#         & (region_wines[\"variety\"] == \"Chardonnay\")\n",
    "        scores_year = region_wines[(region_wines[\"year\"] == year)][\"points\"].values\n",
    "        year_like = np.array([])\n",
    "        if scores_year != []:\n",
    "            scores_check = (scores_year > 90)\n",
    "            scores_big = np.where(scores_check == True)[0]\n",
    "            percentages_bigger.append(len(scores_big) / len(scores_check))\n",
    "\n",
    "            xs = np.append(xs, np.repeat(year, len(scores_year)))\n",
    "    #         print(\"scores year\", scores_year, \"len\", len(scores_year))\n",
    "            ys = np.append(ys, scores_year)\n",
    "        \n",
    "            sems = np.append(sems, np.std(scores_year) / np.sqrt(len(scores_year)))\n",
    "\n",
    "            ys_list.append(scores_year)\n",
    "            xs_list.append(year)\n",
    "            ys_mean = np.append(ys_mean, np.mean(scores_year))\n",
    "\n",
    "all_wine_scores.sort()\n",
    "print(all_wine_scores.shape)\n",
    "print(all_wine_scores)\n",
    "\n",
    "print(np.percentile(all_wine_scores, 95))\n",
    "\n",
    "plt.figure(figsize=(15, 6))\n",
    "plt.hist(all_wine_scores)\n",
    "plt.axvline(np.percentile(all_wine_scores, 95), color=\"r\")\n",
    "plt.show()\n",
    "\n",
    "# for i in range(len(ys_list)):\n",
    "#     if len(ys_list[i]) > 10:\n",
    "#         plt.figure(figsize=(15, 6))\n",
    "#         plt.axvline(95, color=\"r\")\n",
    "#         plt.title(str(xs_list[i]) + most_occuring_region)\n",
    "#         plt.hist(ys_list[i], bins=15)\n",
    "#         plt.show()\n",
    "\n",
    "# Percentage of wines with a score higher than 90 calculated per\n",
    "# plt.hist(percentages_bigger)\n",
    "\n",
    "\n",
    "# shifted_sems = np.roll(sems, -1)\n",
    "# shifted_means = np.roll(ys_mean, 1)\n",
    "\n",
    "# means_in_sem = (ys_mean < shifted_means + shifted_sems) & (ys_mean > shifted_means - shifted_sems)\n",
    "# print(\"Means falling in sem\", means_in_sem)\n",
    "# print(np.argwhere(means_in_sem == True))\n",
    "# means_in_sem_idx = np.argwhere(means_in_sem == True).flatten()\n",
    "\n",
    "# print(np.where([ys_mean > ys_mean - sems, ys_mean < ys_mean - sems]))\n",
    "\n",
    "# Plot of region scores of all years\n",
    "# plt.scatter(year, np.mean(scores_year), color=\"blue\")\n",
    "# plt.figure(figsize=(15, 6))\n",
    "# plt.scatter(xs, ys, label=\"Region mean scores\")\n",
    "# plt.plot(np.unique(xs), ys_mean, label=\"Region mean\", color=\"r\")\n",
    "# plt.xlabel(\"Year\")\n",
    "# plt.ylabel(\"Points\")\n",
    "# plt.title(most_occuring_region)\n",
    "# plt.legend()\n",
    "# plt.show()\n",
    "\n",
    "\n",
    "# Sem plot\n",
    "# bins = 7\n",
    "# for i in means_in_sem_idx:\n",
    "#     print(\"i\", i)\n",
    "# #     if len(ys_list[i]) > 10 and len(wine_years[i]) == 4:\n",
    "# #         bins = len(np.unique(ys_list[i]))\n",
    "#     plt.hist(ys_list[i], bins, alpha=0.5, label=wine_years[i])\n",
    "#     plt.hist(ys_list[i + 1], bins, alpha=0.5, label=wine_years[i + 1])\n",
    "#     plt.title(\"Year \" + str(wine_years[i]) + \" with \" + str(bins) + \" bins\")\n",
    "#     plt.legend()\n",
    "#     plt.show()\n",
    "\n",
    "\n",
    "grape_variety = region_wines[\"variety\"].unique()\n",
    "\n",
    "most_used_grapes = region_wines[\"variety\"].value_counts().nlargest(5).index.tolist()\n",
    "\n",
    "# for most_used_grape in most_used_grapes:\n",
    "#     print(\"most used grape\", most_used_grape)\n",
    "#     # most_used_grape = \"Chardonnay\"\n",
    "#     grape_years = region_wines[region_wines[\"variety\"] == most_used_grape][\"year\"]\n",
    "\n",
    "#     grape_year_scores = []\n",
    "#     grape_xs = []\n",
    "#     for year in sorted(grape_years):\n",
    "#         if len(year) == 4:\n",
    "#             grape_xs.append(year)\n",
    "#             grape_year_scores.append(np.mean(region_wines[(region_wines[\"variety\"] == most_used_grape) & (region_wines[\"year\"] == year)][\"points\"]))\n",
    "\n",
    "\n",
    "#     # Dit is een soort binnen een regio, misschien ook nadere regio checken van dezelfde soort?\n",
    "\n",
    "#     plt.figure(figsize=(15, 6))\n",
    "#     plt.plot(grape_xs, grape_year_scores)\n",
    "#     plt.title(\"Average points per year of \" + most_used_grape + \" in \" + most_occuring_region)\n",
    "#     plt.xlabel(\"Year\")\n",
    "#     plt.ylabel(\"Points\")\n",
    "#     plt.show()\n",
    "\n",
    "\n",
    "# count = 0\n",
    "# for grape in grape_variety:\n",
    "#     if len(raw_wine_data[raw_wine_data[\"variety\"] == grape]) > 300:\n",
    "#         count += 1\n",
    "#         grape_score = np.mean(raw_wine_data[raw_wine_data[\"variety\"] == grape][\"points\"])\n",
    "#         plt.bar(grape, grape_score)\n",
    "\n",
    "# print(count)\n",
    "# plt.figure(figsize=(15,6))\n",
    "# plt.show()\n",
    "\n",
    "\n",
    "# Bootstrap voor mean test van de population\n",
    "bootstrap = region_wines.sample(100)\n",
    "\n",
    "bootstrapped_means = []\n",
    "iter = 10**5\n",
    "for i in range(iter):\n",
    "    if i % 100 == 0:\n",
    "        print(\"\\rPercentage:\", i / iter * 100, end='', flush=True)\n",
    "    bootstrap_sample = region_wines.sample(100)\n",
    "    bootstrapped_means.append(np.mean(bootstrap_sample['points']))\n",
    "\n",
    "plt.figure(figsize=(15, 6))\n",
    "plt.hist(bootstrapped_means, normed=True)\n",
    "plt.axvline(np.mean(region_wines['points']), color=\"r\")"
   ]
  },
  {
   "cell_type": "code",
   "execution_count": 17,
   "metadata": {},
   "outputs": [
    {
     "name": "stdout",
     "output_type": "stream",
     "text": [
      "58.32924452389873\n"
     ]
    },
    {
     "data": {
      "image/png": "[encoded data removed]",
      "text/plain": [
       "<matplotlib.figure.Figure at 0x7fcb64b3cda0>"
      ]
     },
     "metadata": {},
     "output_type": "display_data"
    },
    {
     "name": "stdout",
     "output_type": "stream",
     "text": [
      "28.438070859982915\n"
     ]
    },
    {
     "data": {
      "image/png": "[encoded data removed]",
      "text/plain": [
       "<matplotlib.figure.Figure at 0x7fcb644e8748>"
      ]
     },
     "metadata": {},
     "output_type": "display_data"
    }
   ],
   "source": [
    "most_occuring_region = raw_wine_data[\"region_1\"].value_counts().idxmax()\n",
    "region_wines = raw_wine_data[raw_wine_data[\"region_1\"] == most_occuring_region]\n",
    "\n",
    "wine_houses = region_wines[\"winery\"].unique()\n",
    "\n",
    "all_house_scores = []\n",
    "\n",
    "for house in wine_houses:\n",
    "    house_scores = region_wines[region_wines[\"winery\"] == house][\"price\"].values\n",
    "#     all_house_scores = np.concatenate([all_house_scores, house_scores])\n",
    "    if len(house_scores) > 0:\n",
    "        all_house_scores.append(house_scores)\n",
    "\n",
    "mean_house_scores = []\n",
    "for scores in all_house_scores:\n",
    "    if len(scores) > 30:\n",
    "        scores[np.isnan(scores)] = 0\n",
    "        mean_house_scores.append(np.mean(scores))\n",
    "\n",
    "print(np.mean(mean_house_scores))\n",
    "plt.figure(figsize=(15, 6))\n",
    "plt.bar(range(len(mean_house_scores)), mean_house_scores)\n",
    "plt.show()\n",
    "\n",
    "most_occuring_region = \"Columbia Valley (WA)\"\n",
    "\n",
    "region_wines = raw_wine_data[raw_wine_data[\"region_1\"] == most_occuring_region]\n",
    "\n",
    "wine_houses = region_wines[\"winery\"].unique()\n",
    "\n",
    "all_house_scores = []\n",
    "\n",
    "for house in wine_houses:\n",
    "    house_scores = region_wines[region_wines[\"winery\"] == house][\"price\"].values\n",
    "#     all_house_scores = np.concatenate([all_house_scores, house_scores])\n",
    "    all_house_scores.append(house_scores)\n",
    "\n",
    "mean_house_scores = []\n",
    "for scores in all_house_scores:\n",
    "    if len(scores) > 30:\n",
    "        scores[np.isnan(scores)] = 0\n",
    "        mean_house_scores.append(np.mean(scores))\n",
    "\n",
    "print(np.mean(mean_house_scores))\n",
    "plt.figure(figsize=(15, 6))\n",
    "plt.bar(range(len(mean_house_scores)), mean_house_scores)\n",
    "plt.show()\n",
    "\n",
    "# most_occuring_region = raw_wine_data[\"region_1\"].value_counts()\n",
    "# print(most_occuring_region)"
   ]
  },
  {
   "cell_type": "code",
   "execution_count": 29,
   "metadata": {
    "scrolled": false
   },
   "outputs": [
    {
     "name": "stdout",
     "output_type": "stream",
     "text": [
      "1818\n"
     ]
    },
    {
     "ename": "TypeError",
     "evalue": "'float' object is not subscriptable",
     "output_type": "error",
     "traceback": [
      "\u001b[0;31m---------------------------------------------------------------------------\u001b[0m",
      "\u001b[0;31mTypeError\u001b[0m                                 Traceback (most recent call last)",
      "\u001b[0;32m<ipython-input-29-33df20e40a7f>\u001b[0m in \u001b[0;36m<module>\u001b[0;34m()\u001b[0m\n\u001b[1;32m     36\u001b[0m                 \u001b[0mother_scores\u001b[0m\u001b[0;34m.\u001b[0m\u001b[0mappend\u001b[0m\u001b[0;34m(\u001b[0m\u001b[0mtaster_scores\u001b[0m\u001b[0;34m[\u001b[0m\u001b[0;34m(\u001b[0m\u001b[0mother_taster\u001b[0m\u001b[0;34m,\u001b[0m \u001b[0mgrape\u001b[0m\u001b[0;34m)\u001b[0m\u001b[0;34m]\u001b[0m\u001b[0;34m)\u001b[0m\u001b[0;34m\u001b[0m\u001b[0m\n\u001b[1;32m     37\u001b[0m             \u001b[0;32melse\u001b[0m\u001b[0;34m:\u001b[0m\u001b[0;34m\u001b[0m\u001b[0m\n\u001b[0;32m---> 38\u001b[0;31m                 \u001b[0mother_scores\u001b[0m\u001b[0;34m.\u001b[0m\u001b[0mappend\u001b[0m\u001b[0;34m(\u001b[0m\u001b[0mtaster_scores\u001b[0m\u001b[0;34m[\u001b[0m\u001b[0;34m(\u001b[0m\u001b[0mother_taster\u001b[0m\u001b[0;34m,\u001b[0m \u001b[0mgrape\u001b[0m\u001b[0;34m)\u001b[0m\u001b[0;34m]\u001b[0m\u001b[0;34m[\u001b[0m\u001b[0;36m0\u001b[0m\u001b[0;34m]\u001b[0m\u001b[0;34m)\u001b[0m\u001b[0;34m\u001b[0m\u001b[0m\n\u001b[0m\u001b[1;32m     39\u001b[0m \u001b[0;34m\u001b[0m\u001b[0m\n\u001b[1;32m     40\u001b[0m \u001b[0;34m\u001b[0m\u001b[0m\n",
      "\u001b[0;31mTypeError\u001b[0m: 'float' object is not subscriptable"
     ]
    }
   ],
   "source": [
    "tasters = raw_wine_data[\"taster_name\"].unique()\n",
    "\n",
    "reviewed_grapes_per_taster = {}\n",
    "\n",
    "for taster in tasters:\n",
    "    reviewed_grapes_per_taster[taster] = raw_wine_data[raw_wine_data[\"taster_name\"] == taster][\"variety\"].unique()\n",
    "\n",
    "# print(reviewed_grapes_per_taster)\n",
    "\n",
    "# scores_per_grape_per_reviewer = {}\n",
    "# taster_scores = {}\n",
    "\n",
    "# for taster in reviewed_grapes_per_taster:\n",
    "#     other_average_scores = []\n",
    "#     for grape in reviewed_grapes_per_taster[taster]:\n",
    "# #         for other_taster in reviewed_grapes_per_taster:\n",
    "# #             if other_taster != taster:\n",
    "# #                 other_average_scores.append(np.mean(raw_wine_data[(raw_wine_data[\"taster_name\"] == other_taster) & (raw_wine_data[\"variety\"] == grape)][\"points\"]))\n",
    "#         scores = raw_wine_data[(raw_wine_data[\"taster_name\"] == taster) & (raw_wine_data[\"variety\"] == grape)][\"points\"]\n",
    "#         if not np.isnan(np.mean(scores)):\n",
    "#             scores[np.isnan(scores)] = 0\n",
    "# #         all_average = np.mean(other_average_scores)\n",
    "    \n",
    "#         taster_scores[(taster, grape)] = np.mean(scores)\n",
    "#     print(\"joe\")\n",
    "    \n",
    "\n",
    "# print(taster_scores)\n",
    "print(len(taster_scores))\n",
    "for taster, grape in taster_scores:\n",
    "    taster_score = taster_scores[(taster, grape)]\n",
    "    other_scores = []\n",
    "    for other_taster, other_grape in taster_scores:\n",
    "        if other_taster != taster and other_grape == grape:\n",
    "            if type(taster_scores[(other_taster, grape)]) == \"float\":\n",
    "                other_scores.append(taster_scores[(other_taster, grape)])\n",
    "            else:\n",
    "                other_scores.append(taster_scores[(other_taster, grape)][0])\n",
    "\n",
    "\n",
    "    taster_scores[(taster, grape)] = (taster_score, np.mean(other_scores))\n",
    "    print(other_scores)\n",
    "    print(taster, grape, taster_scores[(taster, grape)])\n",
    "    break"
   ]
  },
  {
   "cell_type": "code",
   "execution_count": null,
   "metadata": {},
   "outputs": [],
   "source": []
  }
 ],
 "metadata": {
  "kernelspec": {
   "display_name": "Python 3",
   "language": "python",
   "name": "python3"
  },
  "language_info": {
   "codemirror_mode": {
    "name": "ipython",
    "version": 3
   },
   "file_extension": ".py",
   "mimetype": "text/x-python",
   "name": "python",
   "nbconvert_exporter": "python",
   "pygments_lexer": "ipython3",
   "version": "3.6.4"
  }
 },
 "nbformat": 4,
 "nbformat_minor": 2
}
