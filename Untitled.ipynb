{
 "cells": [
  {
   "cell_type": "code",
   "execution_count": 1,
   "metadata": {
    "collapsed": true
   },
   "outputs": [],
   "source": [
    "import pandas as pd\n",
    "import numpy as np\n",
    "import matplotlib.pyplot as plt"
   ]
  },
  {
   "cell_type": "code",
   "execution_count": 5,
   "metadata": {
    "collapsed": true
   },
   "outputs": [],
   "source": [
    "wine_data_path = \"./data/winemag-data-130k-v2.csv\" \n",
    "wine_data_path_2 = \"./data/winemag-data_first150k.csv\""
   ]
  },
  {
   "cell_type": "code",
   "execution_count": 18,
   "metadata": {},
   "outputs": [
    {
     "data": {
      "text/html": [
       "<div>\n",
       "<style>\n",
       "    .dataframe thead tr:only-child th {\n",
       "        text-align: right;\n",
       "    }\n",
       "\n",
       "    .dataframe thead th {\n",
       "        text-align: left;\n",
       "    }\n",
       "\n",
       "    .dataframe tbody tr th {\n",
       "        vertical-align: top;\n",
       "    }\n",
       "</style>\n",
       "<table border=\"1\" class=\"dataframe\">\n",
       "  <thead>\n",
       "    <tr style=\"text-align: right;\">\n",
       "      <th></th>\n",
       "      <th>Unnamed: 0</th>\n",
       "      <th>country</th>\n",
       "      <th>description</th>\n",
       "      <th>designation</th>\n",
       "      <th>points</th>\n",
       "      <th>price</th>\n",
       "      <th>province</th>\n",
       "      <th>region_1</th>\n",
       "      <th>region_2</th>\n",
       "      <th>taster_name</th>\n",
       "      <th>taster_twitter_handle</th>\n",
       "      <th>title</th>\n",
       "      <th>variety</th>\n",
       "      <th>winery</th>\n",
       "    </tr>\n",
       "  </thead>\n",
       "  <tbody>\n",
       "    <tr>\n",
       "      <th>58656</th>\n",
       "      <td>58656</td>\n",
       "      <td>Italy</td>\n",
       "      <td>Dark berry, toasted hazelnut and menthol aroma...</td>\n",
       "      <td>Bussia</td>\n",
       "      <td>89</td>\n",
       "      <td>75.0</td>\n",
       "      <td>Piedmont</td>\n",
       "      <td>Barolo</td>\n",
       "      <td>NaN</td>\n",
       "      <td>Kerin O’Keefe</td>\n",
       "      <td>@kerinokeefe</td>\n",
       "      <td>Pecchenino 2012 Bussia  (Barolo)</td>\n",
       "      <td>Nebbiolo</td>\n",
       "      <td>Pecchenino</td>\n",
       "    </tr>\n",
       "    <tr>\n",
       "      <th>63929</th>\n",
       "      <td>63929</td>\n",
       "      <td>US</td>\n",
       "      <td>Drink this polished Chardonnay now with shellf...</td>\n",
       "      <td>Reserve</td>\n",
       "      <td>88</td>\n",
       "      <td>26.0</td>\n",
       "      <td>California</td>\n",
       "      <td>Russian River Valley</td>\n",
       "      <td>Sonoma</td>\n",
       "      <td>NaN</td>\n",
       "      <td>NaN</td>\n",
       "      <td>Simi 2009 Reserve Chardonnay (Russian River Va...</td>\n",
       "      <td>Chardonnay</td>\n",
       "      <td>Simi</td>\n",
       "    </tr>\n",
       "    <tr>\n",
       "      <th>17492</th>\n",
       "      <td>17492</td>\n",
       "      <td>Greece</td>\n",
       "      <td>This rosé starts with scents of anise, pepper ...</td>\n",
       "      <td>Kanenas</td>\n",
       "      <td>89</td>\n",
       "      <td>19.0</td>\n",
       "      <td>Greece</td>\n",
       "      <td>NaN</td>\n",
       "      <td>NaN</td>\n",
       "      <td>Susan Kostrzewa</td>\n",
       "      <td>@suskostrzewa</td>\n",
       "      <td>Tsantali 2015 Kanenas Rosé (Greece)</td>\n",
       "      <td>Rosé</td>\n",
       "      <td>Tsantali</td>\n",
       "    </tr>\n",
       "    <tr>\n",
       "      <th>96039</th>\n",
       "      <td>96039</td>\n",
       "      <td>US</td>\n",
       "      <td>This uncomplicated bottling is delicate and li...</td>\n",
       "      <td>NaN</td>\n",
       "      <td>87</td>\n",
       "      <td>19.0</td>\n",
       "      <td>California</td>\n",
       "      <td>Santa Barbara County</td>\n",
       "      <td>Central Coast</td>\n",
       "      <td>Matt Kettmann</td>\n",
       "      <td>@mattkettmann</td>\n",
       "      <td>Alma Rosa 2015 Pinot Gris (Santa Barbara County)</td>\n",
       "      <td>Pinot Gris</td>\n",
       "      <td>Alma Rosa</td>\n",
       "    </tr>\n",
       "    <tr>\n",
       "      <th>73839</th>\n",
       "      <td>73839</td>\n",
       "      <td>France</td>\n",
       "      <td>This totally refreshing wine is crisp, lively ...</td>\n",
       "      <td>NaN</td>\n",
       "      <td>87</td>\n",
       "      <td>12.0</td>\n",
       "      <td>Bordeaux</td>\n",
       "      <td>Bordeaux Rosé</td>\n",
       "      <td>NaN</td>\n",
       "      <td>Roger Voss</td>\n",
       "      <td>@vossroger</td>\n",
       "      <td>Château Vignol 2014 Rosé (Bordeaux Rosé)</td>\n",
       "      <td>Rosé</td>\n",
       "      <td>Château Vignol</td>\n",
       "    </tr>\n",
       "  </tbody>\n",
       "</table>\n",
       "</div>"
      ],
      "text/plain": [
       "       Unnamed: 0 country                                        description  \\\n",
       "58656       58656   Italy  Dark berry, toasted hazelnut and menthol aroma...   \n",
       "63929       63929      US  Drink this polished Chardonnay now with shellf...   \n",
       "17492       17492  Greece  This rosé starts with scents of anise, pepper ...   \n",
       "96039       96039      US  This uncomplicated bottling is delicate and li...   \n",
       "73839       73839  France  This totally refreshing wine is crisp, lively ...   \n",
       "\n",
       "      designation  points  price    province              region_1  \\\n",
       "58656      Bussia      89   75.0    Piedmont                Barolo   \n",
       "63929     Reserve      88   26.0  California  Russian River Valley   \n",
       "17492     Kanenas      89   19.0      Greece                   NaN   \n",
       "96039         NaN      87   19.0  California  Santa Barbara County   \n",
       "73839         NaN      87   12.0    Bordeaux         Bordeaux Rosé   \n",
       "\n",
       "            region_2      taster_name taster_twitter_handle  \\\n",
       "58656            NaN    Kerin O’Keefe          @kerinokeefe   \n",
       "63929         Sonoma              NaN                   NaN   \n",
       "17492            NaN  Susan Kostrzewa         @suskostrzewa   \n",
       "96039  Central Coast    Matt Kettmann         @mattkettmann   \n",
       "73839            NaN       Roger Voss            @vossroger   \n",
       "\n",
       "                                                   title     variety  \\\n",
       "58656                   Pecchenino 2012 Bussia  (Barolo)    Nebbiolo   \n",
       "63929  Simi 2009 Reserve Chardonnay (Russian River Va...  Chardonnay   \n",
       "17492                Tsantali 2015 Kanenas Rosé (Greece)        Rosé   \n",
       "96039   Alma Rosa 2015 Pinot Gris (Santa Barbara County)  Pinot Gris   \n",
       "73839           Château Vignol 2014 Rosé (Bordeaux Rosé)        Rosé   \n",
       "\n",
       "               winery  \n",
       "58656      Pecchenino  \n",
       "63929            Simi  \n",
       "17492        Tsantali  \n",
       "96039       Alma Rosa  \n",
       "73839  Château Vignol  "
      ]
     },
     "execution_count": 18,
     "metadata": {},
     "output_type": "execute_result"
    }
   ],
   "source": [
    "missing_values = [\"n/a\", \"na\", \"--\"]\n",
    "raw_wine_data = pd.read_csv(wine_data_path, na_values = missing_values)\n",
    "raw_wine_data.sample(5)"
   ]
  },
  {
   "cell_type": "code",
   "execution_count": 13,
   "metadata": {},
   "outputs": [
    {
     "data": {
      "text/plain": [
       "['Unnamed: 0',\n",
       " 'country',\n",
       " 'description',\n",
       " 'designation',\n",
       " 'points',\n",
       " 'price',\n",
       " 'province',\n",
       " 'region_1',\n",
       " 'region_2',\n",
       " 'taster_name',\n",
       " 'taster_twitter_handle',\n",
       " 'title',\n",
       " 'variety',\n",
       " 'winery']"
      ]
     },
     "execution_count": 13,
     "metadata": {},
     "output_type": "execute_result"
    }
   ],
   "source": [
    "list(raw_wine_data)"
   ]
  },
  {
   "cell_type": "code",
   "execution_count": 14,
   "metadata": {},
   "outputs": [],
   "source": [
    "filtered_wine_data = raw_wine_data[['country', 'points', 'price', 'province', 'taster_name', 'title', 'variety', 'winery']]\n",
    "# filtered_wine_data = raw_wine_data[['country', 'points', 'price', 'province', 'variety', 'winery']]"
   ]
  },
  {
   "cell_type": "code",
   "execution_count": 15,
   "metadata": {},
   "outputs": [
    {
     "data": {
      "text/html": [
       "<div>\n",
       "<style>\n",
       "    .dataframe thead tr:only-child th {\n",
       "        text-align: right;\n",
       "    }\n",
       "\n",
       "    .dataframe thead th {\n",
       "        text-align: left;\n",
       "    }\n",
       "\n",
       "    .dataframe tbody tr th {\n",
       "        vertical-align: top;\n",
       "    }\n",
       "</style>\n",
       "<table border=\"1\" class=\"dataframe\">\n",
       "  <thead>\n",
       "    <tr style=\"text-align: right;\">\n",
       "      <th></th>\n",
       "      <th>points</th>\n",
       "      <th>price</th>\n",
       "    </tr>\n",
       "  </thead>\n",
       "  <tbody>\n",
       "    <tr>\n",
       "      <th>count</th>\n",
       "      <td>129971.000000</td>\n",
       "      <td>120975.000000</td>\n",
       "    </tr>\n",
       "    <tr>\n",
       "      <th>mean</th>\n",
       "      <td>88.447138</td>\n",
       "      <td>35.363389</td>\n",
       "    </tr>\n",
       "    <tr>\n",
       "      <th>std</th>\n",
       "      <td>3.039730</td>\n",
       "      <td>41.022218</td>\n",
       "    </tr>\n",
       "    <tr>\n",
       "      <th>min</th>\n",
       "      <td>80.000000</td>\n",
       "      <td>4.000000</td>\n",
       "    </tr>\n",
       "    <tr>\n",
       "      <th>25%</th>\n",
       "      <td>86.000000</td>\n",
       "      <td>17.000000</td>\n",
       "    </tr>\n",
       "    <tr>\n",
       "      <th>50%</th>\n",
       "      <td>88.000000</td>\n",
       "      <td>25.000000</td>\n",
       "    </tr>\n",
       "    <tr>\n",
       "      <th>75%</th>\n",
       "      <td>91.000000</td>\n",
       "      <td>42.000000</td>\n",
       "    </tr>\n",
       "    <tr>\n",
       "      <th>max</th>\n",
       "      <td>100.000000</td>\n",
       "      <td>3300.000000</td>\n",
       "    </tr>\n",
       "  </tbody>\n",
       "</table>\n",
       "</div>"
      ],
      "text/plain": [
       "              points          price\n",
       "count  129971.000000  120975.000000\n",
       "mean       88.447138      35.363389\n",
       "std         3.039730      41.022218\n",
       "min        80.000000       4.000000\n",
       "25%        86.000000      17.000000\n",
       "50%        88.000000      25.000000\n",
       "75%        91.000000      42.000000\n",
       "max       100.000000    3300.000000"
      ]
     },
     "execution_count": 15,
     "metadata": {},
     "output_type": "execute_result"
    }
   ],
   "source": [
    "filtered_wine_data.describe()"
   ]
  },
  {
   "cell_type": "code",
   "execution_count": 17,
   "metadata": {},
   "outputs": [
    {
     "data": {
      "text/plain": [
       "country           63\n",
       "points             0\n",
       "price           8996\n",
       "province          63\n",
       "taster_name    26244\n",
       "title              0\n",
       "variety            1\n",
       "winery             0\n",
       "dtype: int64"
      ]
     },
     "execution_count": 17,
     "metadata": {},
     "output_type": "execute_result"
    }
   ],
   "source": [
    "pd.isnull(filtered_wine_data).sum()"
   ]
  },
  {
   "cell_type": "code",
   "execution_count": 19,
   "metadata": {},
   "outputs": [
    {
     "name": "stdout",
     "output_type": "stream",
     "text": [
      "129971\n",
      "96420\n"
     ]
    }
   ],
   "source": [
    "print(filtered_wine_data.shape[0])\n",
    "clean_wine_data = filtered_wine_data.dropna()\n",
    "print(clean_wine_data.shape[0])"
   ]
  },
  {
   "cell_type": "code",
   "execution_count": 20,
   "metadata": {},
   "outputs": [
    {
     "data": {
      "text/html": [
       "<div>\n",
       "<style>\n",
       "    .dataframe thead tr:only-child th {\n",
       "        text-align: right;\n",
       "    }\n",
       "\n",
       "    .dataframe thead th {\n",
       "        text-align: left;\n",
       "    }\n",
       "\n",
       "    .dataframe tbody tr th {\n",
       "        vertical-align: top;\n",
       "    }\n",
       "</style>\n",
       "<table border=\"1\" class=\"dataframe\">\n",
       "  <thead>\n",
       "    <tr style=\"text-align: right;\">\n",
       "      <th></th>\n",
       "      <th>points</th>\n",
       "      <th>price</th>\n",
       "    </tr>\n",
       "  </thead>\n",
       "  <tbody>\n",
       "    <tr>\n",
       "      <th>count</th>\n",
       "      <td>96420.000000</td>\n",
       "      <td>96420.000000</td>\n",
       "    </tr>\n",
       "    <tr>\n",
       "      <th>mean</th>\n",
       "      <td>88.585625</td>\n",
       "      <td>35.005009</td>\n",
       "    </tr>\n",
       "    <tr>\n",
       "      <th>std</th>\n",
       "      <td>2.951817</td>\n",
       "      <td>43.069060</td>\n",
       "    </tr>\n",
       "    <tr>\n",
       "      <th>min</th>\n",
       "      <td>80.000000</td>\n",
       "      <td>4.000000</td>\n",
       "    </tr>\n",
       "    <tr>\n",
       "      <th>25%</th>\n",
       "      <td>87.000000</td>\n",
       "      <td>17.000000</td>\n",
       "    </tr>\n",
       "    <tr>\n",
       "      <th>50%</th>\n",
       "      <td>88.000000</td>\n",
       "      <td>25.000000</td>\n",
       "    </tr>\n",
       "    <tr>\n",
       "      <th>75%</th>\n",
       "      <td>91.000000</td>\n",
       "      <td>40.000000</td>\n",
       "    </tr>\n",
       "    <tr>\n",
       "      <th>max</th>\n",
       "      <td>100.000000</td>\n",
       "      <td>3300.000000</td>\n",
       "    </tr>\n",
       "  </tbody>\n",
       "</table>\n",
       "</div>"
      ],
      "text/plain": [
       "             points         price\n",
       "count  96420.000000  96420.000000\n",
       "mean      88.585625     35.005009\n",
       "std        2.951817     43.069060\n",
       "min       80.000000      4.000000\n",
       "25%       87.000000     17.000000\n",
       "50%       88.000000     25.000000\n",
       "75%       91.000000     40.000000\n",
       "max      100.000000   3300.000000"
      ]
     },
     "execution_count": 20,
     "metadata": {},
     "output_type": "execute_result"
    }
   ],
   "source": [
    "clean_wine_data.describe()"
   ]
  },
  {
   "cell_type": "code",
   "execution_count": 33,
   "metadata": {},
   "outputs": [
    {
     "name": "stdout",
     "output_type": "stream",
     "text": [
      "['Portugal' 'US' 'Spain' 'Italy' 'France' 'Germany' 'Argentina' 'Chile'\n",
      " 'Australia' 'Austria' 'South Africa' 'New Zealand' 'Israel' 'Hungary'\n",
      " 'Greece' 'Romania' 'Canada' 'Mexico' 'Turkey' 'Czech Republic' 'Slovenia'\n",
      " 'Luxembourg' 'Croatia' 'Georgia' 'Uruguay' 'England' 'Lebanon' 'Serbia'\n",
      " 'Brazil' 'Moldova' 'Morocco' 'Peru' 'India' 'Bulgaria' 'Cyprus' 'Armenia'\n",
      " 'Switzerland' 'Bosnia and Herzegovina' 'Ukraine' 'Slovakia' 'Macedonia'\n",
      " 'China']\n",
      "['Roger Voss' 'Paul Gregutt' 'Alexander Peartree' 'Michael Schachner'\n",
      " 'Kerin O’Keefe' 'Anna Lee C. Iijima' 'Virginie Boone' 'Matt Kettmann'\n",
      " 'Sean P. Sullivan' 'Jim Gordon' 'Joe Czerwinski' 'Anne Krebiehl\\xa0MW'\n",
      " 'Lauren Buzzeo' 'Mike DeSimone' 'Jeff Jenssen' 'Susan Kostrzewa'\n",
      " 'Carrie Dykes' 'Fiona Adams' 'Christina Pickard']\n",
      "13832\n"
     ]
    }
   ],
   "source": [
    "countries = clean_wine_data.country.unique()\n",
    "print(countries)\n",
    "\n",
    "tasters = clean_wine_data.taster_name.unique()\n",
    "print(tasters)\n",
    "\n",
    "wineries = clean_wine_data.winery.unique()\n",
    "print(len(wineries))"
   ]
  },
  {
   "cell_type": "code",
   "execution_count": 49,
   "metadata": {},
   "outputs": [
    {
     "data": {
      "text/html": [
       "<div>\n",
       "<style>\n",
       "    .dataframe thead tr:only-child th {\n",
       "        text-align: right;\n",
       "    }\n",
       "\n",
       "    .dataframe thead th {\n",
       "        text-align: left;\n",
       "    }\n",
       "\n",
       "    .dataframe tbody tr th {\n",
       "        vertical-align: top;\n",
       "    }\n",
       "</style>\n",
       "<table border=\"1\" class=\"dataframe\">\n",
       "  <thead>\n",
       "    <tr style=\"text-align: right;\">\n",
       "      <th></th>\n",
       "      <th>points</th>\n",
       "      <th>price</th>\n",
       "    </tr>\n",
       "  </thead>\n",
       "  <tbody>\n",
       "    <tr>\n",
       "      <th>count</th>\n",
       "      <td>37511.000000</td>\n",
       "      <td>37511.000000</td>\n",
       "    </tr>\n",
       "    <tr>\n",
       "      <th>mean</th>\n",
       "      <td>88.980139</td>\n",
       "      <td>36.188451</td>\n",
       "    </tr>\n",
       "    <tr>\n",
       "      <th>std</th>\n",
       "      <td>2.835959</td>\n",
       "      <td>26.107694</td>\n",
       "    </tr>\n",
       "    <tr>\n",
       "      <th>min</th>\n",
       "      <td>80.000000</td>\n",
       "      <td>4.000000</td>\n",
       "    </tr>\n",
       "    <tr>\n",
       "      <th>25%</th>\n",
       "      <td>87.000000</td>\n",
       "      <td>20.000000</td>\n",
       "    </tr>\n",
       "    <tr>\n",
       "      <th>50%</th>\n",
       "      <td>89.000000</td>\n",
       "      <td>30.000000</td>\n",
       "    </tr>\n",
       "    <tr>\n",
       "      <th>75%</th>\n",
       "      <td>91.000000</td>\n",
       "      <td>45.000000</td>\n",
       "    </tr>\n",
       "    <tr>\n",
       "      <th>max</th>\n",
       "      <td>100.000000</td>\n",
       "      <td>2013.000000</td>\n",
       "    </tr>\n",
       "  </tbody>\n",
       "</table>\n",
       "</div>"
      ],
      "text/plain": [
       "             points         price\n",
       "count  37511.000000  37511.000000\n",
       "mean      88.980139     36.188451\n",
       "std        2.835959     26.107694\n",
       "min       80.000000      4.000000\n",
       "25%       87.000000     20.000000\n",
       "50%       89.000000     30.000000\n",
       "75%       91.000000     45.000000\n",
       "max      100.000000   2013.000000"
      ]
     },
     "execution_count": 49,
     "metadata": {},
     "output_type": "execute_result"
    }
   ],
   "source": [
    "portugal_wine = clean_wine_data.loc[clean_wine_data['country'] == 'Portugal']\n",
    "us_wine = clean_wine_data.loc[clean_wine_data['country'] == 'US']\n",
    "\n",
    "us_wine.describe()"
   ]
  },
  {
   "cell_type": "code",
   "execution_count": 24,
   "metadata": {},
   "outputs": [
    {
     "data": {
      "text/html": [
       "<div>\n",
       "<style>\n",
       "    .dataframe thead tr:only-child th {\n",
       "        text-align: right;\n",
       "    }\n",
       "\n",
       "    .dataframe thead th {\n",
       "        text-align: left;\n",
       "    }\n",
       "\n",
       "    .dataframe tbody tr th {\n",
       "        vertical-align: top;\n",
       "    }\n",
       "</style>\n",
       "<table border=\"1\" class=\"dataframe\">\n",
       "  <thead>\n",
       "    <tr style=\"text-align: right;\">\n",
       "      <th></th>\n",
       "      <th>points</th>\n",
       "      <th>price</th>\n",
       "    </tr>\n",
       "  </thead>\n",
       "  <tbody>\n",
       "    <tr>\n",
       "      <th>points</th>\n",
       "      <td>1.000000</td>\n",
       "      <td>0.404002</td>\n",
       "    </tr>\n",
       "    <tr>\n",
       "      <th>price</th>\n",
       "      <td>0.404002</td>\n",
       "      <td>1.000000</td>\n",
       "    </tr>\n",
       "  </tbody>\n",
       "</table>\n",
       "</div>"
      ],
      "text/plain": [
       "          points     price\n",
       "points  1.000000  0.404002\n",
       "price   0.404002  1.000000"
      ]
     },
     "execution_count": 24,
     "metadata": {},
     "output_type": "execute_result"
    }
   ],
   "source": [
    "clean_wine_data.corr()"
   ]
  },
  {
   "cell_type": "code",
   "execution_count": 53,
   "metadata": {},
   "outputs": [
    {
     "data": {
      "image/png": "[encoded data removed]",
      "text/plain": [
       "<matplotlib.figure.Figure at 0x7f75804b6860>"
      ]
     },
     "metadata": {},
     "output_type": "display_data"
    },
    {
     "data": {
      "image/png": "[encoded data removed]",
      "text/plain": [
       "<matplotlib.figure.Figure at 0x7f75803cbc50>"
      ]
     },
     "metadata": {},
     "output_type": "display_data"
    }
   ],
   "source": [
    "us_wine['points'].hist(label='US wine', color='r', alpha=0.5, normed=True)\n",
    "plt.axvline(us_wine['points'].mean())\n",
    "portugal_wine['points'].hist(label='Portugal wine', color='b', alpha=0.5, normed=True)\n",
    "plt.axvline(portugal_wine['points'].mean())\n",
    "\n",
    "plt.ylabel('Normalized counts')\n",
    "plt.xlabel('points')\n",
    "plt.title('Histogram of the score of US and Portugal wine reviews.')\n",
    "plt.legend()\n",
    "plt.show()\n",
    "\n",
    "clean_wine_data['points'].hist(label='All wine', color='r', normed=True)\n",
    "\n",
    "plt.ylabel('Normalized counts')\n",
    "plt.xlabel('points')\n",
    "plt.title('Histogram of the score of all wine reviews.')\n",
    "plt.legend()\n",
    "plt.show()\n"
   ]
  },
  {
   "cell_type": "code",
   "execution_count": 47,
   "metadata": {
    "scrolled": false
   },
   "outputs": [],
   "source": [
    "# roger = clean_wine_data.loc[clean_wine_data['taster_name'] == 'Roger Voss']\n",
    "\n",
    "# corr = roger['points'].groupby(roger['price']).mean()\n",
    "\n",
    "# print(corr)\n",
    "# plt.plot(corr)\n",
    "# plt.show()"
   ]
  },
  {
   "cell_type": "code",
   "execution_count": null,
   "metadata": {
    "collapsed": true
   },
   "outputs": [],
   "source": []
  }
 ],
 "metadata": {
  "kernelspec": {
   "display_name": "Python 3",
   "language": "python",
   "name": "python3"
  },
  "language_info": {
   "codemirror_mode": {
    "name": "ipython",
    "version": 3
   },
   "file_extension": ".py",
   "mimetype": "text/x-python",
   "name": "python",
   "nbconvert_exporter": "python",
   "pygments_lexer": "ipython3",
   "version": "3.6.3"
  }
 },
 "nbformat": 4,
 "nbformat_minor": 2
}
